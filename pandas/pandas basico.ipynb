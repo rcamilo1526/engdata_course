{
 "cells": [
  {
   "cell_type": "code",
   "execution_count": 2,
   "metadata": {},
   "outputs": [],
   "source": [
    "import pandas as pd"
   ]
  },
  {
   "cell_type": "code",
   "execution_count": 2,
   "metadata": {},
   "outputs": [
    {
     "data": {
      "text/plain": [
       "0    100\n",
       "1    200\n",
       "2    300\n",
       "dtype: int64"
      ]
     },
     "execution_count": 2,
     "metadata": {},
     "output_type": "execute_result"
    }
   ],
   "source": [
    "series_test=pd.Series([100,200,300])\n",
    "series_test"
   ]
  },
  {
   "cell_type": "code",
   "execution_count": 4,
   "metadata": {},
   "outputs": [
    {
     "data": {
      "text/plain": [
       "1999    48\n",
       "2000    65\n",
       "2001    89\n",
       "dtype: int64"
      ]
     },
     "execution_count": 4,
     "metadata": {},
     "output_type": "execute_result"
    }
   ],
   "source": [
    "series_test2=pd.Series({1999:48,\n",
    "                        2000:65,\n",
    "                        2001:89})\n",
    "series_test2"
   ]
  },
  {
   "cell_type": "code",
   "execution_count": 5,
   "metadata": {},
   "outputs": [
    {
     "data": {
      "text/html": [
       "<div>\n",
       "<style scoped>\n",
       "    .dataframe tbody tr th:only-of-type {\n",
       "        vertical-align: middle;\n",
       "    }\n",
       "\n",
       "    .dataframe tbody tr th {\n",
       "        vertical-align: top;\n",
       "    }\n",
       "\n",
       "    .dataframe thead th {\n",
       "        text-align: right;\n",
       "    }\n",
       "</style>\n",
       "<table border=\"1\" class=\"dataframe\">\n",
       "  <thead>\n",
       "    <tr style=\"text-align: right;\">\n",
       "      <th></th>\n",
       "      <th>1999</th>\n",
       "      <th>2000</th>\n",
       "      <th>2001</th>\n",
       "    </tr>\n",
       "  </thead>\n",
       "  <tbody>\n",
       "    <tr>\n",
       "      <th>0</th>\n",
       "      <td>74</td>\n",
       "      <td>34</td>\n",
       "      <td>23</td>\n",
       "    </tr>\n",
       "    <tr>\n",
       "      <th>1</th>\n",
       "      <td>38</td>\n",
       "      <td>32</td>\n",
       "      <td>39</td>\n",
       "    </tr>\n",
       "    <tr>\n",
       "      <th>2</th>\n",
       "      <td>39</td>\n",
       "      <td>320</td>\n",
       "      <td>23</td>\n",
       "    </tr>\n",
       "  </tbody>\n",
       "</table>\n",
       "</div>"
      ],
      "text/plain": [
       "   1999  2000  2001\n",
       "0    74    34    23\n",
       "1    38    32    39\n",
       "2    39   320    23"
      ]
     },
     "execution_count": 5,
     "metadata": {},
     "output_type": "execute_result"
    }
   ],
   "source": [
    "frame_test = pd.DataFrame({1999:[74,38,39],\n",
    "                           2000:[34,32,320],\n",
    "                            2001:[23,39,23]})\n",
    "frame_test"
   ]
  },
  {
   "cell_type": "code",
   "execution_count": 7,
   "metadata": {},
   "outputs": [
    {
     "data": {
      "text/html": [
       "<div>\n",
       "<style scoped>\n",
       "    .dataframe tbody tr th:only-of-type {\n",
       "        vertical-align: middle;\n",
       "    }\n",
       "\n",
       "    .dataframe tbody tr th {\n",
       "        vertical-align: top;\n",
       "    }\n",
       "\n",
       "    .dataframe thead th {\n",
       "        text-align: right;\n",
       "    }\n",
       "</style>\n",
       "<table border=\"1\" class=\"dataframe\">\n",
       "  <thead>\n",
       "    <tr style=\"text-align: right;\">\n",
       "      <th></th>\n",
       "      <th>1999</th>\n",
       "      <th>2000</th>\n",
       "      <th>2001</th>\n",
       "    </tr>\n",
       "  </thead>\n",
       "  <tbody>\n",
       "    <tr>\n",
       "      <th>0</th>\n",
       "      <td>74</td>\n",
       "      <td>38</td>\n",
       "      <td>39</td>\n",
       "    </tr>\n",
       "    <tr>\n",
       "      <th>1</th>\n",
       "      <td>34</td>\n",
       "      <td>32</td>\n",
       "      <td>320</td>\n",
       "    </tr>\n",
       "    <tr>\n",
       "      <th>2</th>\n",
       "      <td>23</td>\n",
       "      <td>39</td>\n",
       "      <td>23</td>\n",
       "    </tr>\n",
       "  </tbody>\n",
       "</table>\n",
       "</div>"
      ],
      "text/plain": [
       "   1999  2000  2001\n",
       "0    74    38    39\n",
       "1    34    32   320\n",
       "2    23    39    23"
      ]
     },
     "execution_count": 7,
     "metadata": {},
     "output_type": "execute_result"
    }
   ],
   "source": [
    "frame_test2= pd.DataFrame([[74,38,39],\n",
    "                         [34,32,320],\n",
    "                         [23,39,23]],columns=[1999,2000,2001])\n",
    "frame_test2"
   ]
  },
  {
   "cell_type": "code",
   "execution_count": 14,
   "metadata": {},
   "outputs": [
    {
     "data": {
      "text/html": [
       "<div>\n",
       "<style scoped>\n",
       "    .dataframe tbody tr th:only-of-type {\n",
       "        vertical-align: middle;\n",
       "    }\n",
       "\n",
       "    .dataframe tbody tr th {\n",
       "        vertical-align: top;\n",
       "    }\n",
       "\n",
       "    .dataframe thead th {\n",
       "        text-align: right;\n",
       "    }\n",
       "</style>\n",
       "<table border=\"1\" class=\"dataframe\">\n",
       "  <thead>\n",
       "    <tr style=\"text-align: right;\">\n",
       "      <th></th>\n",
       "      <th>body</th>\n",
       "      <th>title</th>\n",
       "      <th>url</th>\n",
       "    </tr>\n",
       "  </thead>\n",
       "  <tbody>\n",
       "    <tr>\n",
       "      <th>0</th>\n",
       "      <td>\\r\\n\\r\\n\\r\\n\\r\\n    googletag.cmd.push(functio...</td>\n",
       "      <td>Los maravillosos vuelos en Teotihuacán | FOTOS</td>\n",
       "      <td>http://www.unionedomex.mx/articulo/2019/08/26/...</td>\n",
       "    </tr>\n",
       "    <tr>\n",
       "      <th>1</th>\n",
       "      <td>\\r\\nEl encantador de perros, César Millán, lle...</td>\n",
       "      <td>César Millán habla del racismo en razas de perros</td>\n",
       "      <td>http://www.eluniversal.com.mx/espectaculos/ces...</td>\n",
       "    </tr>\n",
       "    <tr>\n",
       "      <th>2</th>\n",
       "      <td>\\r\\n\\r\\nBrasilia. El ministro de Medio Ambien...</td>\n",
       "      <td>Amazonas no pertenece a la humanidad... eso e...</td>\n",
       "      <td>https://www.eluniversal.com.mx/mundo/amazonas-...</td>\n",
       "    </tr>\n",
       "    <tr>\n",
       "      <th>3</th>\n",
       "      <td>\\r\\n\\r\\nHace unos días el Instituto Nacional d...</td>\n",
       "      <td>El estancamiento</td>\n",
       "      <td>https://www.eluniversal.com.mx/opinion/carlos-...</td>\n",
       "    </tr>\n",
       "    <tr>\n",
       "      <th>4</th>\n",
       "      <td>\\r\\nCarlos Vela salió bufando del campo. El de...</td>\n",
       "      <td>Técnico del LAFC no castigará a Carlos Vela po...</td>\n",
       "      <td>http://www.eluniversal.com.mx/universal-deport...</td>\n",
       "    </tr>\n",
       "    <tr>\n",
       "      <th>...</th>\n",
       "      <td>...</td>\n",
       "      <td>...</td>\n",
       "      <td>...</td>\n",
       "    </tr>\n",
       "    <tr>\n",
       "      <th>68</th>\n",
       "      <td>YAUTEPEC. Este fin de semana se realizó una a...</td>\n",
       "      <td>NaN</td>\n",
       "      <td>https://www.elgrafico.mx/la-roja/chilaquiles-t...</td>\n",
       "    </tr>\n",
       "    <tr>\n",
       "      <th>69</th>\n",
       "      <td>Para finales de este año se prevé el inicio de...</td>\n",
       "      <td>Tres nuevas empresas arrancarán operaciones en...</td>\n",
       "      <td>http://sanluis.eluniversal.com.mx/cartera/26-0...</td>\n",
       "    </tr>\n",
       "    <tr>\n",
       "      <th>70</th>\n",
       "      <td>Llegó la primavera y el colorido aleteo de cie...</td>\n",
       "      <td>En peligro de extinción, mariposario comunitario</td>\n",
       "      <td>http://oaxaca.eluniversal.com.mx/especiales/28...</td>\n",
       "    </tr>\n",
       "    <tr>\n",
       "      <th>71</th>\n",
       "      <td>No solo son los feminicidios, en general la vi...</td>\n",
       "      <td>En los últimos cuatro años, se dispara la viol...</td>\n",
       "      <td>http://sanluis.eluniversal.com.mx/metropoli/26...</td>\n",
       "    </tr>\n",
       "    <tr>\n",
       "      <th>72</th>\n",
       "      <td>\\r\\nLa Fiscalía General del estado de Michoacá...</td>\n",
       "      <td>Abren carpeta por homicidio de teniente corone...</td>\n",
       "      <td>https://www.eluniversal.com.mx/estados/abren-c...</td>\n",
       "    </tr>\n",
       "  </tbody>\n",
       "</table>\n",
       "<p>73 rows × 3 columns</p>\n",
       "</div>"
      ],
      "text/plain": [
       "                                                 body  \\\n",
       "0   \\r\\n\\r\\n\\r\\n\\r\\n    googletag.cmd.push(functio...   \n",
       "1   \\r\\nEl encantador de perros, César Millán, lle...   \n",
       "2   \\r\\n\\r\\nBrasilia. El ministro de Medio Ambien...   \n",
       "3   \\r\\n\\r\\nHace unos días el Instituto Nacional d...   \n",
       "4   \\r\\nCarlos Vela salió bufando del campo. El de...   \n",
       "..                                                ...   \n",
       "68  YAUTEPEC. Este fin de semana se realizó una a...   \n",
       "69  Para finales de este año se prevé el inicio de...   \n",
       "70  Llegó la primavera y el colorido aleteo de cie...   \n",
       "71  No solo son los feminicidios, en general la vi...   \n",
       "72  \\r\\nLa Fiscalía General del estado de Michoacá...   \n",
       "\n",
       "                                                title  \\\n",
       "0      Los maravillosos vuelos en Teotihuacán | FOTOS   \n",
       "1   César Millán habla del racismo en razas de perros   \n",
       "2   Amazonas no pertenece a la humanidad... eso e...   \n",
       "3                                    El estancamiento   \n",
       "4   Técnico del LAFC no castigará a Carlos Vela po...   \n",
       "..                                                ...   \n",
       "68                                                NaN   \n",
       "69  Tres nuevas empresas arrancarán operaciones en...   \n",
       "70   En peligro de extinción, mariposario comunitario   \n",
       "71  En los últimos cuatro años, se dispara la viol...   \n",
       "72  Abren carpeta por homicidio de teniente corone...   \n",
       "\n",
       "                                                  url  \n",
       "0   http://www.unionedomex.mx/articulo/2019/08/26/...  \n",
       "1   http://www.eluniversal.com.mx/espectaculos/ces...  \n",
       "2   https://www.eluniversal.com.mx/mundo/amazonas-...  \n",
       "3   https://www.eluniversal.com.mx/opinion/carlos-...  \n",
       "4   http://www.eluniversal.com.mx/universal-deport...  \n",
       "..                                                ...  \n",
       "68  https://www.elgrafico.mx/la-roja/chilaquiles-t...  \n",
       "69  http://sanluis.eluniversal.com.mx/cartera/26-0...  \n",
       "70  http://oaxaca.eluniversal.com.mx/especiales/28...  \n",
       "71  http://sanluis.eluniversal.com.mx/metropoli/26...  \n",
       "72  https://www.eluniversal.com.mx/estados/abren-c...  \n",
       "\n",
       "[73 rows x 3 columns]"
      ]
     },
     "execution_count": 14,
     "metadata": {},
     "output_type": "execute_result"
    }
   ],
   "source": [
    "pd.options.display.max_rows=10\n",
    "el_universal=pd.read_csv('eluniversal_2019_08_26_articles.csv', encoding = 'ISO-8859-1')\n",
    "type(el_universal)\n",
    "el_universal"
   ]
  },
  {
   "cell_type": "code",
   "execution_count": 9,
   "metadata": {},
   "outputs": [
    {
     "data": {
      "text/html": [
       "<div>\n",
       "<style scoped>\n",
       "    .dataframe tbody tr th:only-of-type {\n",
       "        vertical-align: middle;\n",
       "    }\n",
       "\n",
       "    .dataframe tbody tr th {\n",
       "        vertical-align: top;\n",
       "    }\n",
       "\n",
       "    .dataframe thead th {\n",
       "        text-align: right;\n",
       "    }\n",
       "</style>\n",
       "<table border=\"1\" class=\"dataframe\">\n",
       "  <thead>\n",
       "    <tr style=\"text-align: right;\">\n",
       "      <th></th>\n",
       "      <th>body</th>\n",
       "      <th>title</th>\n",
       "      <th>url</th>\n",
       "    </tr>\n",
       "  </thead>\n",
       "  <tbody>\n",
       "    <tr>\n",
       "      <th>0</th>\n",
       "      <td>\\r\\n\\r\\n\\r\\n\\r\\n    googletag.cmd.push(functio...</td>\n",
       "      <td>Los maravillosos vuelos en Teotihuacán | FOTOS</td>\n",
       "      <td>http://www.unionedomex.mx/articulo/2019/08/26/...</td>\n",
       "    </tr>\n",
       "    <tr>\n",
       "      <th>1</th>\n",
       "      <td>\\r\\nEl encantador de perros, César Millán, lle...</td>\n",
       "      <td>César Millán habla del racismo en razas de perros</td>\n",
       "      <td>http://www.eluniversal.com.mx/espectaculos/ces...</td>\n",
       "    </tr>\n",
       "    <tr>\n",
       "      <th>2</th>\n",
       "      <td>\\r\\n\\r\\nBrasilia. El ministro de Medio Ambien...</td>\n",
       "      <td>Amazonas no pertenece a la humanidad... eso e...</td>\n",
       "      <td>https://www.eluniversal.com.mx/mundo/amazonas-...</td>\n",
       "    </tr>\n",
       "    <tr>\n",
       "      <th>3</th>\n",
       "      <td>\\r\\n\\r\\nHace unos días el Instituto Nacional d...</td>\n",
       "      <td>El estancamiento</td>\n",
       "      <td>https://www.eluniversal.com.mx/opinion/carlos-...</td>\n",
       "    </tr>\n",
       "    <tr>\n",
       "      <th>4</th>\n",
       "      <td>\\r\\nCarlos Vela salió bufando del campo. El de...</td>\n",
       "      <td>Técnico del LAFC no castigará a Carlos Vela po...</td>\n",
       "      <td>http://www.eluniversal.com.mx/universal-deport...</td>\n",
       "    </tr>\n",
       "  </tbody>\n",
       "</table>\n",
       "</div>"
      ],
      "text/plain": [
       "                                                body  \\\n",
       "0  \\r\\n\\r\\n\\r\\n\\r\\n    googletag.cmd.push(functio...   \n",
       "1  \\r\\nEl encantador de perros, César Millán, lle...   \n",
       "2  \\r\\n\\r\\nBrasilia. El ministro de Medio Ambien...   \n",
       "3  \\r\\n\\r\\nHace unos días el Instituto Nacional d...   \n",
       "4  \\r\\nCarlos Vela salió bufando del campo. El de...   \n",
       "\n",
       "                                               title  \\\n",
       "0     Los maravillosos vuelos en Teotihuacán | FOTOS   \n",
       "1  César Millán habla del racismo en razas de perros   \n",
       "2  Amazonas no pertenece a la humanidad... eso e...   \n",
       "3                                   El estancamiento   \n",
       "4  Técnico del LAFC no castigará a Carlos Vela po...   \n",
       "\n",
       "                                                 url  \n",
       "0  http://www.unionedomex.mx/articulo/2019/08/26/...  \n",
       "1  http://www.eluniversal.com.mx/espectaculos/ces...  \n",
       "2  https://www.eluniversal.com.mx/mundo/amazonas-...  \n",
       "3  https://www.eluniversal.com.mx/opinion/carlos-...  \n",
       "4  http://www.eluniversal.com.mx/universal-deport...  "
      ]
     },
     "execution_count": 9,
     "metadata": {},
     "output_type": "execute_result"
    }
   ],
   "source": [
    "pd.options.display.mac_rows=10"
   ]
  },
  {
   "cell_type": "code",
   "execution_count": 12,
   "metadata": {
    "scrolled": true
   },
   "outputs": [
    {
     "data": {
      "text/html": [
       "<div>\n",
       "<style scoped>\n",
       "    .dataframe tbody tr th:only-of-type {\n",
       "        vertical-align: middle;\n",
       "    }\n",
       "\n",
       "    .dataframe tbody tr th {\n",
       "        vertical-align: top;\n",
       "    }\n",
       "\n",
       "    .dataframe thead th {\n",
       "        text-align: right;\n",
       "    }\n",
       "</style>\n",
       "<table border=\"1\" class=\"dataframe\">\n",
       "  <thead>\n",
       "    <tr style=\"text-align: right;\">\n",
       "      <th></th>\n",
       "      <th>body</th>\n",
       "      <th>title</th>\n",
       "      <th>url</th>\n",
       "    </tr>\n",
       "  </thead>\n",
       "  <tbody>\n",
       "    <tr>\n",
       "      <th>0</th>\n",
       "      <td>\\r\\n\\r\\n\\r\\nLa saga de 'Star Wars', que desde ...</td>\n",
       "      <td>Revelan nuevo tráiler de Star Wars: El ascens...</td>\n",
       "      <td>https://www.eltiempo.com/cultura/cine-y-tv/rev...</td>\n",
       "    </tr>\n",
       "    <tr>\n",
       "      <th>1</th>\n",
       "      <td>\\r\\n\\r\\n\\r\\nAl Congreso de la República llegó ...</td>\n",
       "      <td>A la cárcel irían quienes publiquen videos ínt...</td>\n",
       "      <td>https://www.eltiempo.com/politica/congreso/a-l...</td>\n",
       "    </tr>\n",
       "    <tr>\n",
       "      <th>2</th>\n",
       "      <td>\\r\\n\\r\\n\\r\\nNo se trata de hechos aislados. La...</td>\n",
       "      <td>Así opera la poderosa mafia trasnacional que r...</td>\n",
       "      <td>https://www.eltiempo.com/unidad-investigativa/...</td>\n",
       "    </tr>\n",
       "    <tr>\n",
       "      <th>3</th>\n",
       "      <td>\\r\\n\\r\\n\\r\\nPierre Li Cavoli es un licenciado ...</td>\n",
       "      <td>El drama de físico francés que dictó clases en...</td>\n",
       "      <td>https://www.eltiempo.com/colombia/otras-ciudad...</td>\n",
       "    </tr>\n",
       "    <tr>\n",
       "      <th>4</th>\n",
       "      <td>\\r\\n\\r\\n\\r\\nEl exsubdirector del DAS José Migu...</td>\n",
       "      <td>Narváez pide protección por 'importancia' de l...</td>\n",
       "      <td>https://www.eltiempo.com/justicia/jep-colombia...</td>\n",
       "    </tr>\n",
       "    <tr>\n",
       "      <th>5</th>\n",
       "      <td>\\r\\n\\r\\n\\r\\nLa Corporación Financiera Colombia...</td>\n",
       "      <td>Corficolombiana sale a buscar de los inversion...</td>\n",
       "      <td>https://www.eltiempo.com/economia/empresas/cor...</td>\n",
       "    </tr>\n",
       "    <tr>\n",
       "      <th>6</th>\n",
       "      <td>\\r\\n\\r\\n\\r\\nEstremecen las imágenes de la regi...</td>\n",
       "      <td>NaN</td>\n",
       "      <td>https://www.eltiempo.com/opinion/columnistas/j...</td>\n",
       "    </tr>\n",
       "    <tr>\n",
       "      <th>7</th>\n",
       "      <td>\\r\\n\\r\\n\\r\\nTenemos los hechos del día a día,...</td>\n",
       "      <td>NaN</td>\n",
       "      <td>https://www.eltiempo.com/opinion/columnistas/y...</td>\n",
       "    </tr>\n",
       "    <tr>\n",
       "      <th>8</th>\n",
       "      <td>\\r\\n\\r\\n\\r\\nEn un retén de la Policía de Tráns...</td>\n",
       "      <td>Conductor de coche fúnebre llevaba 300 kilos d...</td>\n",
       "      <td>https://www.eltiempo.com/colombia/otras-ciudad...</td>\n",
       "    </tr>\n",
       "    <tr>\n",
       "      <th>9</th>\n",
       "      <td>\\r\\n\\r\\n\\r\\nEl juzgado 11 Penal Municipal de M...</td>\n",
       "      <td>Cárcel a mujer acusada de asesinar a su hija d...</td>\n",
       "      <td>https://www.eltiempo.com/colombia/medellin/car...</td>\n",
       "    </tr>\n",
       "    <tr>\n",
       "      <th>10</th>\n",
       "      <td>\\r\\n\\r\\n\\r\\nQue meterse al mar después de almo...</td>\n",
       "      <td>Seis creencias que lo pueden matar</td>\n",
       "      <td>https://www.eltiempo.com/salud/mitos-sobre-la-...</td>\n",
       "    </tr>\n",
       "  </tbody>\n",
       "</table>\n",
       "</div>"
      ],
      "text/plain": [
       "                                                 body  \\\n",
       "0   \\r\\n\\r\\n\\r\\nLa saga de 'Star Wars', que desde ...   \n",
       "1   \\r\\n\\r\\n\\r\\nAl Congreso de la República llegó ...   \n",
       "2   \\r\\n\\r\\n\\r\\nNo se trata de hechos aislados. La...   \n",
       "3   \\r\\n\\r\\n\\r\\nPierre Li Cavoli es un licenciado ...   \n",
       "4   \\r\\n\\r\\n\\r\\nEl exsubdirector del DAS José Migu...   \n",
       "5   \\r\\n\\r\\n\\r\\nLa Corporación Financiera Colombia...   \n",
       "6   \\r\\n\\r\\n\\r\\nEstremecen las imágenes de la regi...   \n",
       "7   \\r\\n\\r\\n\\r\\nTenemos los hechos del día a día,...   \n",
       "8   \\r\\n\\r\\n\\r\\nEn un retén de la Policía de Tráns...   \n",
       "9   \\r\\n\\r\\n\\r\\nEl juzgado 11 Penal Municipal de M...   \n",
       "10  \\r\\n\\r\\n\\r\\nQue meterse al mar después de almo...   \n",
       "\n",
       "                                                title  \\\n",
       "0   Revelan nuevo tráiler de Star Wars: El ascens...   \n",
       "1   A la cárcel irían quienes publiquen videos ínt...   \n",
       "2   Así opera la poderosa mafia trasnacional que r...   \n",
       "3   El drama de físico francés que dictó clases en...   \n",
       "4   Narváez pide protección por 'importancia' de l...   \n",
       "5   Corficolombiana sale a buscar de los inversion...   \n",
       "6                                                 NaN   \n",
       "7                                                 NaN   \n",
       "8   Conductor de coche fúnebre llevaba 300 kilos d...   \n",
       "9   Cárcel a mujer acusada de asesinar a su hija d...   \n",
       "10                 Seis creencias que lo pueden matar   \n",
       "\n",
       "                                                  url  \n",
       "0   https://www.eltiempo.com/cultura/cine-y-tv/rev...  \n",
       "1   https://www.eltiempo.com/politica/congreso/a-l...  \n",
       "2   https://www.eltiempo.com/unidad-investigativa/...  \n",
       "3   https://www.eltiempo.com/colombia/otras-ciudad...  \n",
       "4   https://www.eltiempo.com/justicia/jep-colombia...  \n",
       "5   https://www.eltiempo.com/economia/empresas/cor...  \n",
       "6   https://www.eltiempo.com/opinion/columnistas/j...  \n",
       "7   https://www.eltiempo.com/opinion/columnistas/y...  \n",
       "8   https://www.eltiempo.com/colombia/otras-ciudad...  \n",
       "9   https://www.eltiempo.com/colombia/medellin/car...  \n",
       "10  https://www.eltiempo.com/salud/mitos-sobre-la-...  "
      ]
     },
     "execution_count": 12,
     "metadata": {},
     "output_type": "execute_result"
    }
   ],
   "source": [
    "el_tiempo=pd.read_csv('eltiempo_2019_08_26_articles.csv', encoding = 'ISO-8859-1')\n",
    "type(el_universal)\n",
    "el_tiempo"
   ]
  },
  {
   "cell_type": "code",
   "execution_count": 17,
   "metadata": {},
   "outputs": [
    {
     "data": {
      "text/plain": [
       "0        Los maravillosos vuelos en Teotihuacán | FOTOS\n",
       "1     César Millán habla del racismo en razas de perros\n",
       "2     Amazonas no pertenece a la humanidad... eso e...\n",
       "3                                      El estancamiento\n",
       "4     Técnico del LAFC no castigará a Carlos Vela po...\n",
       "                            ...                        \n",
       "68                                                  NaN\n",
       "69    Tres nuevas empresas arrancarán operaciones en...\n",
       "70     En peligro de extinción, mariposario comunitario\n",
       "71    En los últimos cuatro años, se dispara la viol...\n",
       "72    Abren carpeta por homicidio de teniente corone...\n",
       "Name: title, Length: 73, dtype: object"
      ]
     },
     "execution_count": 17,
     "metadata": {},
     "output_type": "execute_result"
    }
   ],
   "source": [
    "#dictionary like\n",
    "\n",
    "el_universal['title']"
   ]
  },
  {
   "cell_type": "code",
   "execution_count": 19,
   "metadata": {},
   "outputs": [
    {
     "data": {
      "text/html": [
       "<div>\n",
       "<style scoped>\n",
       "    .dataframe tbody tr th:only-of-type {\n",
       "        vertical-align: middle;\n",
       "    }\n",
       "\n",
       "    .dataframe tbody tr th {\n",
       "        vertical-align: top;\n",
       "    }\n",
       "\n",
       "    .dataframe thead th {\n",
       "        text-align: right;\n",
       "    }\n",
       "</style>\n",
       "<table border=\"1\" class=\"dataframe\">\n",
       "  <thead>\n",
       "    <tr style=\"text-align: right;\">\n",
       "      <th></th>\n",
       "      <th>title</th>\n",
       "      <th>url</th>\n",
       "    </tr>\n",
       "  </thead>\n",
       "  <tbody>\n",
       "    <tr>\n",
       "      <th>0</th>\n",
       "      <td>Los maravillosos vuelos en Teotihuacán | FOTOS</td>\n",
       "      <td>http://www.unionedomex.mx/articulo/2019/08/26/...</td>\n",
       "    </tr>\n",
       "    <tr>\n",
       "      <th>1</th>\n",
       "      <td>César Millán habla del racismo en razas de perros</td>\n",
       "      <td>http://www.eluniversal.com.mx/espectaculos/ces...</td>\n",
       "    </tr>\n",
       "    <tr>\n",
       "      <th>2</th>\n",
       "      <td>Amazonas no pertenece a la humanidad... eso e...</td>\n",
       "      <td>https://www.eluniversal.com.mx/mundo/amazonas-...</td>\n",
       "    </tr>\n",
       "    <tr>\n",
       "      <th>3</th>\n",
       "      <td>El estancamiento</td>\n",
       "      <td>https://www.eluniversal.com.mx/opinion/carlos-...</td>\n",
       "    </tr>\n",
       "    <tr>\n",
       "      <th>4</th>\n",
       "      <td>Técnico del LAFC no castigará a Carlos Vela po...</td>\n",
       "      <td>http://www.eluniversal.com.mx/universal-deport...</td>\n",
       "    </tr>\n",
       "    <tr>\n",
       "      <th>...</th>\n",
       "      <td>...</td>\n",
       "      <td>...</td>\n",
       "    </tr>\n",
       "    <tr>\n",
       "      <th>68</th>\n",
       "      <td>NaN</td>\n",
       "      <td>https://www.elgrafico.mx/la-roja/chilaquiles-t...</td>\n",
       "    </tr>\n",
       "    <tr>\n",
       "      <th>69</th>\n",
       "      <td>Tres nuevas empresas arrancarán operaciones en...</td>\n",
       "      <td>http://sanluis.eluniversal.com.mx/cartera/26-0...</td>\n",
       "    </tr>\n",
       "    <tr>\n",
       "      <th>70</th>\n",
       "      <td>En peligro de extinción, mariposario comunitario</td>\n",
       "      <td>http://oaxaca.eluniversal.com.mx/especiales/28...</td>\n",
       "    </tr>\n",
       "    <tr>\n",
       "      <th>71</th>\n",
       "      <td>En los últimos cuatro años, se dispara la viol...</td>\n",
       "      <td>http://sanluis.eluniversal.com.mx/metropoli/26...</td>\n",
       "    </tr>\n",
       "    <tr>\n",
       "      <th>72</th>\n",
       "      <td>Abren carpeta por homicidio de teniente corone...</td>\n",
       "      <td>https://www.eluniversal.com.mx/estados/abren-c...</td>\n",
       "    </tr>\n",
       "  </tbody>\n",
       "</table>\n",
       "<p>73 rows × 2 columns</p>\n",
       "</div>"
      ],
      "text/plain": [
       "                                                title  \\\n",
       "0      Los maravillosos vuelos en Teotihuacán | FOTOS   \n",
       "1   César Millán habla del racismo en razas de perros   \n",
       "2   Amazonas no pertenece a la humanidad... eso e...   \n",
       "3                                    El estancamiento   \n",
       "4   Técnico del LAFC no castigará a Carlos Vela po...   \n",
       "..                                                ...   \n",
       "68                                                NaN   \n",
       "69  Tres nuevas empresas arrancarán operaciones en...   \n",
       "70   En peligro de extinción, mariposario comunitario   \n",
       "71  En los últimos cuatro años, se dispara la viol...   \n",
       "72  Abren carpeta por homicidio de teniente corone...   \n",
       "\n",
       "                                                  url  \n",
       "0   http://www.unionedomex.mx/articulo/2019/08/26/...  \n",
       "1   http://www.eluniversal.com.mx/espectaculos/ces...  \n",
       "2   https://www.eluniversal.com.mx/mundo/amazonas-...  \n",
       "3   https://www.eluniversal.com.mx/opinion/carlos-...  \n",
       "4   http://www.eluniversal.com.mx/universal-deport...  \n",
       "..                                                ...  \n",
       "68  https://www.elgrafico.mx/la-roja/chilaquiles-t...  \n",
       "69  http://sanluis.eluniversal.com.mx/cartera/26-0...  \n",
       "70  http://oaxaca.eluniversal.com.mx/especiales/28...  \n",
       "71  http://sanluis.eluniversal.com.mx/metropoli/26...  \n",
       "72  https://www.eluniversal.com.mx/estados/abren-c...  \n",
       "\n",
       "[73 rows x 2 columns]"
      ]
     },
     "execution_count": 19,
     "metadata": {},
     "output_type": "execute_result"
    }
   ],
   "source": [
    "el_universal[['title', 'url']]"
   ]
  },
  {
   "cell_type": "code",
   "execution_count": 20,
   "metadata": {},
   "outputs": [
    {
     "data": {
      "text/html": [
       "<div>\n",
       "<style scoped>\n",
       "    .dataframe tbody tr th:only-of-type {\n",
       "        vertical-align: middle;\n",
       "    }\n",
       "\n",
       "    .dataframe tbody tr th {\n",
       "        vertical-align: top;\n",
       "    }\n",
       "\n",
       "    .dataframe thead th {\n",
       "        text-align: right;\n",
       "    }\n",
       "</style>\n",
       "<table border=\"1\" class=\"dataframe\">\n",
       "  <thead>\n",
       "    <tr style=\"text-align: right;\">\n",
       "      <th></th>\n",
       "      <th>body</th>\n",
       "      <th>title</th>\n",
       "      <th>url</th>\n",
       "    </tr>\n",
       "  </thead>\n",
       "  <tbody>\n",
       "    <tr>\n",
       "      <th>10</th>\n",
       "      <td>\\r\\n\\r\\nNo hay destino irremediable frente a l...</td>\n",
       "      <td>Etiquetado frontal</td>\n",
       "      <td>https://www.eluniversal.com.mx/opinion/ricardo...</td>\n",
       "    </tr>\n",
       "    <tr>\n",
       "      <th>11</th>\n",
       "      <td>\\r\\nNadie duda que es cierto el dicho de que. ...</td>\n",
       "      <td>Famosos comparten fotos en el Día internaciona...</td>\n",
       "      <td>http://www.eluniversal.com.mx/espectaculos/fam...</td>\n",
       "    </tr>\n",
       "    <tr>\n",
       "      <th>12</th>\n",
       "      <td>\\r\\nMéxico.- La falsificación de billetes y mo...</td>\n",
       "      <td>Banxico emitirá nuevo billete de 200 pesos en ...</td>\n",
       "      <td>http://www.eluniversal.com.mx/cartera/banxico-...</td>\n",
       "    </tr>\n",
       "    <tr>\n",
       "      <th>13</th>\n",
       "      <td>\\r\\nMiguel Herrera acepta parte de la responsa...</td>\n",
       "      <td>'Piojo' Herrera asume parte de la culpa por la...</td>\n",
       "      <td>http://www.eluniversal.com.mx/universal-deport...</td>\n",
       "    </tr>\n",
       "    <tr>\n",
       "      <th>14</th>\n",
       "      <td>\\r\\nLa secuela de Black Panther ya tiene fecha...</td>\n",
       "      <td>\"Black Panther 2\" llegará en 2022</td>\n",
       "      <td>http://www.eluniversal.com.mx/espectaculos/cin...</td>\n",
       "    </tr>\n",
       "  </tbody>\n",
       "</table>\n",
       "</div>"
      ],
      "text/plain": [
       "                                                 body  \\\n",
       "10  \\r\\n\\r\\nNo hay destino irremediable frente a l...   \n",
       "11  \\r\\nNadie duda que es cierto el dicho de que. ...   \n",
       "12  \\r\\nMéxico.- La falsificación de billetes y mo...   \n",
       "13  \\r\\nMiguel Herrera acepta parte de la responsa...   \n",
       "14  \\r\\nLa secuela de Black Panther ya tiene fecha...   \n",
       "\n",
       "                                                title  \\\n",
       "10                                 Etiquetado frontal   \n",
       "11  Famosos comparten fotos en el Día internaciona...   \n",
       "12  Banxico emitirá nuevo billete de 200 pesos en ...   \n",
       "13  'Piojo' Herrera asume parte de la culpa por la...   \n",
       "14                  \"Black Panther 2\" llegará en 2022   \n",
       "\n",
       "                                                  url  \n",
       "10  https://www.eluniversal.com.mx/opinion/ricardo...  \n",
       "11  http://www.eluniversal.com.mx/espectaculos/fam...  \n",
       "12  http://www.eluniversal.com.mx/cartera/banxico-...  \n",
       "13  http://www.eluniversal.com.mx/universal-deport...  \n",
       "14  http://www.eluniversal.com.mx/espectaculos/cin...  "
      ]
     },
     "execution_count": 20,
     "metadata": {},
     "output_type": "execute_result"
    }
   ],
   "source": [
    "#numpy like\n",
    "el_universal.iloc[10:15]"
   ]
  },
  {
   "cell_type": "code",
   "execution_count": 23,
   "metadata": {},
   "outputs": [
    {
     "data": {
      "text/plain": [
       "body     \\r\\nLos más de siete mil microbuseros que exis...\n",
       "title    Microbuseros anuncian megamarcha; piden ser es...\n",
       "url      http://www.eluniversal.com.mx/metropoli/cdmx/m...\n",
       "Name: 60, dtype: object"
      ]
     },
     "execution_count": 23,
     "metadata": {},
     "output_type": "execute_result"
    }
   ],
   "source": [
    "el_universal.iloc[60]"
   ]
  },
  {
   "cell_type": "code",
   "execution_count": 25,
   "metadata": {},
   "outputs": [
    {
     "data": {
      "text/plain": [
       "0    \\r\\n\\r\\n\\r\\n\\r\\n    googletag.cmd.push(functio...\n",
       "1    \\r\\nEl encantador de perros, César Millán, lle...\n",
       "2    \\r\\n\\r\\nBrasilia. El ministro de Medio Ambien...\n",
       "3    \\r\\n\\r\\nHace unos días el Instituto Nacional d...\n",
       "4    \\r\\nCarlos Vela salió bufando del campo. El de...\n",
       "Name: body, dtype: object"
      ]
     },
     "execution_count": 25,
     "metadata": {},
     "output_type": "execute_result"
    }
   ],
   "source": [
    "el_universal.iloc[:5,0]"
   ]
  },
  {
   "cell_type": "code",
   "execution_count": 27,
   "metadata": {},
   "outputs": [
    {
     "data": {
      "text/plain": [
       "0     \\r\\n\\r\\n\\r\\n\\r\\n    googletag.cmd.push(functio...\n",
       "1     \\r\\nEl encantador de perros, César Millán, lle...\n",
       "2     \\r\\n\\r\\nBrasilia. El ministro de Medio Ambien...\n",
       "3     \\r\\n\\r\\nHace unos días el Instituto Nacional d...\n",
       "4     \\r\\nCarlos Vela salió bufando del campo. El de...\n",
       "                            ...                        \n",
       "68    YAUTEPEC. Este fin de semana se realizó una a...\n",
       "69    Para finales de este año se prevé el inicio de...\n",
       "70    Llegó la primavera y el colorido aleteo de cie...\n",
       "71    No solo son los feminicidios, en general la vi...\n",
       "72    \\r\\nLa Fiscalía General del estado de Michoacá...\n",
       "Name: body, Length: 73, dtype: object"
      ]
     },
     "execution_count": 27,
     "metadata": {},
     "output_type": "execute_result"
    }
   ],
   "source": [
    "#labels like\n",
    "el_universal.loc[:,'body']"
   ]
  },
  {
   "cell_type": "code",
   "execution_count": 31,
   "metadata": {},
   "outputs": [
    {
     "name": "stdout",
     "output_type": "stream",
     "text": [
      "Collecting urlparse\n"
     ]
    },
    {
     "name": "stderr",
     "output_type": "stream",
     "text": [
      "  ERROR: Could not find a version that satisfies the requirement urlparse (from versions: none)\n",
      "ERROR: No matching distribution found for urlparse\n"
     ]
    }
   ],
   "source": [
    "\n"
   ]
  }
 ],
 "metadata": {
  "kernelspec": {
   "display_name": "Python 3",
   "language": "python",
   "name": "python3"
  },
  "language_info": {
   "codemirror_mode": {
    "name": "ipython",
    "version": 3
   },
   "file_extension": ".py",
   "mimetype": "text/x-python",
   "name": "python",
   "nbconvert_exporter": "python",
   "pygments_lexer": "ipython3",
   "version": "3.7.3"
  }
 },
 "nbformat": 4,
 "nbformat_minor": 2
}
