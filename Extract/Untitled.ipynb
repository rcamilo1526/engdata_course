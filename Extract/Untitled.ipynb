{
 "cells": [
  {
   "cell_type": "code",
   "execution_count": 1,
   "metadata": {},
   "outputs": [],
   "source": [
    "import pandas as pd"
   ]
  },
  {
   "cell_type": "code",
   "execution_count": 15,
   "metadata": {},
   "outputs": [
    {
     "data": {
      "text/plain": [
       "0     \\r\\n\\r\\n\\r\\nSeguramente, alguna vez usted se h...\n",
       "1     \\r\\n\\r\\n\\r\\nSemanas antes de que la banda The ...\n",
       "2     \\r\\n\\r\\n\\r\\nEl Banco de Bogotá abrió las puert...\n",
       "3     \\r\\n\\r\\n\\r\\nEl actual contexto político latino...\n",
       "4     \\r\\n\\r\\n\\r\\nEl polifacético artista Daniel Joh...\n",
       "5     \\r\\n\\r\\n\\r\\nDesde Drummond Colombia se promuev...\n",
       "6     \\r\\n\\r\\n\\r\\nLas irregularidades evidenciadas p...\n",
       "7     \\r\\n\\r\\n\\r\\nUno de los rasgos esenciales de la...\n",
       "8     \\r\\n\\r\\n\\r\\nEl precio máximo de venta del anti...\n",
       "9     \\r\\n\\r\\n\\r\\nHace un par de días el medio estad...\n",
       "10    \\r\\n\\r\\n\\r\\nEste viernes 13 de septiembre, a l...\n",
       "11    \\r\\n\\r\\n\\r\\nEn más de una ocasión han llegado ...\n",
       "12    \\r\\n\\r\\n\\r\\nJohnson justificó esta decisión po...\n",
       "13    \\r\\n\\r\\n\\r\\nLa campaña para la alcaldía de Bog...\n",
       "14    \\r\\n\\r\\n\\r\\nMercurio es el planeta más cercano...\n",
       "15    \\r\\n\\r\\n\\r\\nDos fotografías que correspondería...\n",
       "16    \\r\\n\\r\\n\\r\\nEste viernes se conocerá en Barran...\n",
       "17    \\r\\n\\r\\n\\r\\nEl emprendimiento colombiano Rappi...\n",
       "18    \\r\\n\\r\\n\\r\\nEste martes se conoció un video en...\n",
       "19    \\r\\n\\r\\n\\r\\nEl exguerrillero Rodrigo Granda ne...\n",
       "20    \\r\\n\\r\\n\\r\\nNo puedo creer que no supieran en ...\n",
       "21    \\r\\n\\r\\n\\r\\nCorrían los últimos años de la pri...\n",
       "22    \\r\\n\\r\\n\\r\\nA menos de tres meses para que se ...\n",
       "23    \\r\\n\\r\\n\\r\\nComo él me lo había ordenado la no...\n",
       "24    \\r\\n\\r\\n\\r\\nEn WhatsApp está circulando un nue...\n",
       "25    \\r\\n\\r\\n\\r\\nFederica Mogherini, alta represent...\n",
       "26    \\r\\n\\r\\n\\r\\nTras conocerse un impactante video...\n",
       "27    \\r\\n\\r\\n\\r\\nEl actor John Leguizamo, que prese...\n",
       "28    \\r\\n\\r\\n\\r\\nEste miércoles, 11 de septiembre, ...\n",
       "29    \\r\\n\\r\\n\\r\\nLa tensión entre Colombia y Venezu...\n",
       "                            ...                        \n",
       "33    \\r\\n\\r\\n\\r\\nLos dos señalados paramilitares qu...\n",
       "34    \\r\\n\\r\\n\\r\\nEl presidente del Partido Verde y ...\n",
       "35    \\r\\n\\r\\n\\r\\nNo son pocas las personas que han ...\n",
       "36    \\r\\n\\r\\n\\r\\nUn grupo de 12 países de la región...\n",
       "37    \\r\\n\\r\\n\\r\\nEl candidato a la alcaldía de Alto...\n",
       "38    \\r\\n\\r\\n\\r\\nEl refrán dice que “en casa de her...\n",
       "39    \\r\\n\\r\\n\\r\\nLa revista especializada en educac...\n",
       "40    \\r\\n\\r\\n\\r\\nNi la Fiscalía ni la Policía puede...\n",
       "41    \\r\\n\\r\\n\\r\\nEl nombre de Bellas Artes hace par...\n",
       "42    \\r\\n\\r\\n\\r\\nLos anuncios sobre las novedades d...\n",
       "43    \\r\\n\\r\\n\\r\\nLa primera cría de rinoceronte bla...\n",
       "44    \\r\\n\\r\\n\\r\\nEl candidato que llegue a ocupar l...\n",
       "45    \\r\\n\\r\\n\\r\\nAl estudiar cuatro tutelas de pers...\n",
       "46    \\r\\n\\r\\n\\r\\nHombres del Batallón de Infantería...\n",
       "47    \\r\\n\\r\\n\\r\\nMás de 1.400 animales silvestres f...\n",
       "48    \\r\\n\\r\\n\\r\\nEn el marco de su propósito de con...\n",
       "49    \\r\\n\\r\\n\\r\\nEl carismático empresario chino Ja...\n",
       "50    \\r\\n\\r\\n\\r\\nEl violinista y director de orques...\n",
       "51    \\r\\n\\r\\n\\r\\nHace ya algunos años que, por una ...\n",
       "52    \\r\\n\\r\\n\\r\\nEn los próximos días la Corte Cons...\n",
       "53    \\r\\n\\r\\n\\r\\nLa compañía Avianca Holdings, en p...\n",
       "54    \\r\\n\\r\\n\\r\\nEste 12 de septiembre, miles de mu...\n",
       "55    \\r\\n\\r\\n\\r\\nJapón está en una carrera contra e...\n",
       "56    \\r\\n\\r\\n\\r\\nComo parte de su fuerte proceso de...\n",
       "57    \\r\\n\\r\\n\\r\\nCuatro lotes de las toallitas húme...\n",
       "58    \\r\\n\\r\\n\\r\\nConsulte en el siguiente mapa cuál...\n",
       "59    \\r\\n\\r\\n\\r\\nEl canciller de Colombia, Carlos H...\n",
       "60    \\r\\n\\r\\n\\r\\nEl ciclista colombiano Sergio Higu...\n",
       "61    \\r\\n\\r\\n\\r\\nDesde el 12 de septiembre el Claus...\n",
       "62    \\r\\n\\r\\n\\r\\nDesesperante, inaguantable, insufr...\n",
       "Name: body, Length: 63, dtype: object"
      ]
     },
     "execution_count": 15,
     "metadata": {},
     "output_type": "execute_result"
    }
   ],
   "source": [
    "el_universal=pd.read_csv('eltiempo_2019_09_12_articles.csv', encoding = 'utf-8')\n",
    "type(el_universal)\n",
    "el_universal['body']"
   ]
  }
 ],
 "metadata": {
  "kernelspec": {
   "display_name": "Python 3",
   "language": "python",
   "name": "python3"
  },
  "language_info": {
   "codemirror_mode": {
    "name": "ipython",
    "version": 3
   },
   "file_extension": ".py",
   "mimetype": "text/x-python",
   "name": "python",
   "nbconvert_exporter": "python",
   "pygments_lexer": "ipython3",
   "version": "3.7.3"
  }
 },
 "nbformat": 4,
 "nbformat_minor": 2
}
